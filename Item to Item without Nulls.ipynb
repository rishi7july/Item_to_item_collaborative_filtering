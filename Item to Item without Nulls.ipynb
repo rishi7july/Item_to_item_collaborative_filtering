{
 "cells": [
  {
   "cell_type": "code",
   "execution_count": 1,
   "id": "bc29de2e",
   "metadata": {},
   "outputs": [],
   "source": [
    "import pandas as pd\n",
    "from sklearn.metrics.pairwise import cosine_similarity\n",
    "\n"
   ]
  },
  {
   "cell_type": "code",
   "execution_count": 2,
   "id": "5ec34a33",
   "metadata": {},
   "outputs": [],
   "source": [
    "# Sample movie ratings data\n",
    "data = {\n",
    "    'User': ['User 1', 'User 2', 'User 3', 'User 4'],\n",
    "    'Movie 1': [5, 0, 4, 0],\n",
    "    'Movie 2': [4, 5, 0, 3],\n",
    "    'Movie 3': [0, 4, 0, 5],\n",
    "    'Movie 4': [3, 0, 5, 4]\n",
    "}\n",
    "\n"
   ]
  },
  {
   "cell_type": "code",
   "execution_count": 4,
   "id": "b9862feb",
   "metadata": {},
   "outputs": [
    {
     "data": {
      "text/html": [
       "<div>\n",
       "<style scoped>\n",
       "    .dataframe tbody tr th:only-of-type {\n",
       "        vertical-align: middle;\n",
       "    }\n",
       "\n",
       "    .dataframe tbody tr th {\n",
       "        vertical-align: top;\n",
       "    }\n",
       "\n",
       "    .dataframe thead th {\n",
       "        text-align: right;\n",
       "    }\n",
       "</style>\n",
       "<table border=\"1\" class=\"dataframe\">\n",
       "  <thead>\n",
       "    <tr style=\"text-align: right;\">\n",
       "      <th></th>\n",
       "      <th>User</th>\n",
       "      <th>Movie 1</th>\n",
       "      <th>Movie 2</th>\n",
       "      <th>Movie 3</th>\n",
       "      <th>Movie 4</th>\n",
       "    </tr>\n",
       "  </thead>\n",
       "  <tbody>\n",
       "    <tr>\n",
       "      <th>0</th>\n",
       "      <td>User 1</td>\n",
       "      <td>5</td>\n",
       "      <td>4</td>\n",
       "      <td>0</td>\n",
       "      <td>3</td>\n",
       "    </tr>\n",
       "    <tr>\n",
       "      <th>1</th>\n",
       "      <td>User 2</td>\n",
       "      <td>0</td>\n",
       "      <td>5</td>\n",
       "      <td>4</td>\n",
       "      <td>0</td>\n",
       "    </tr>\n",
       "    <tr>\n",
       "      <th>2</th>\n",
       "      <td>User 3</td>\n",
       "      <td>4</td>\n",
       "      <td>0</td>\n",
       "      <td>0</td>\n",
       "      <td>5</td>\n",
       "    </tr>\n",
       "    <tr>\n",
       "      <th>3</th>\n",
       "      <td>User 4</td>\n",
       "      <td>0</td>\n",
       "      <td>3</td>\n",
       "      <td>5</td>\n",
       "      <td>4</td>\n",
       "    </tr>\n",
       "  </tbody>\n",
       "</table>\n",
       "</div>"
      ],
      "text/plain": [
       "     User  Movie 1  Movie 2  Movie 3  Movie 4\n",
       "0  User 1        5        4        0        3\n",
       "1  User 2        0        5        4        0\n",
       "2  User 3        4        0        0        5\n",
       "3  User 4        0        3        5        4"
      ]
     },
     "execution_count": 4,
     "metadata": {},
     "output_type": "execute_result"
    }
   ],
   "source": [
    "# Create a DataFrame from the data\n",
    "df = pd.DataFrame(data)\n",
    "\n",
    "df"
   ]
  },
  {
   "cell_type": "code",
   "execution_count": 5,
   "id": "99d0d85a",
   "metadata": {},
   "outputs": [],
   "source": [
    "# Calculate similarity matrix using cosine similarity\n",
    "similarity_matrix = cosine_similarity(df.iloc[:, 1:])\n",
    "\n"
   ]
  },
  {
   "cell_type": "code",
   "execution_count": 7,
   "id": "ec545249",
   "metadata": {},
   "outputs": [
    {
     "data": {
      "text/html": [
       "<div>\n",
       "<style scoped>\n",
       "    .dataframe tbody tr th:only-of-type {\n",
       "        vertical-align: middle;\n",
       "    }\n",
       "\n",
       "    .dataframe tbody tr th {\n",
       "        vertical-align: top;\n",
       "    }\n",
       "\n",
       "    .dataframe thead th {\n",
       "        text-align: right;\n",
       "    }\n",
       "</style>\n",
       "<table border=\"1\" class=\"dataframe\">\n",
       "  <thead>\n",
       "    <tr style=\"text-align: right;\">\n",
       "      <th></th>\n",
       "      <th>Movie 1</th>\n",
       "      <th>Movie 2</th>\n",
       "      <th>Movie 3</th>\n",
       "      <th>Movie 4</th>\n",
       "    </tr>\n",
       "  </thead>\n",
       "  <tbody>\n",
       "    <tr>\n",
       "      <th>Movie 1</th>\n",
       "      <td>1.000000</td>\n",
       "      <td>0.441726</td>\n",
       "      <td>0.773021</td>\n",
       "      <td>0.480000</td>\n",
       "    </tr>\n",
       "    <tr>\n",
       "      <th>Movie 2</th>\n",
       "      <td>0.441726</td>\n",
       "      <td>1.000000</td>\n",
       "      <td>0.000000</td>\n",
       "      <td>0.773021</td>\n",
       "    </tr>\n",
       "    <tr>\n",
       "      <th>Movie 3</th>\n",
       "      <td>0.773021</td>\n",
       "      <td>0.000000</td>\n",
       "      <td>1.000000</td>\n",
       "      <td>0.441726</td>\n",
       "    </tr>\n",
       "    <tr>\n",
       "      <th>Movie 4</th>\n",
       "      <td>0.480000</td>\n",
       "      <td>0.773021</td>\n",
       "      <td>0.441726</td>\n",
       "      <td>1.000000</td>\n",
       "    </tr>\n",
       "  </tbody>\n",
       "</table>\n",
       "</div>"
      ],
      "text/plain": [
       "          Movie 1   Movie 2   Movie 3   Movie 4\n",
       "Movie 1  1.000000  0.441726  0.773021  0.480000\n",
       "Movie 2  0.441726  1.000000  0.000000  0.773021\n",
       "Movie 3  0.773021  0.000000  1.000000  0.441726\n",
       "Movie 4  0.480000  0.773021  0.441726  1.000000"
      ]
     },
     "execution_count": 7,
     "metadata": {},
     "output_type": "execute_result"
    }
   ],
   "source": [
    "# Convert similarity matrix to a DataFrame for better visualization\n",
    "similarity_df = pd.DataFrame(similarity_matrix, index=df.columns[1:], columns=df.columns[1:])\n",
    "\n",
    "similarity_df"
   ]
  },
  {
   "cell_type": "code",
   "execution_count": 8,
   "id": "1379b771",
   "metadata": {},
   "outputs": [],
   "source": [
    "def get_similar_movies(movie_title, top_n=2):\n",
    "    \"\"\"\n",
    "    Function to get top similar movies to a given movie title\n",
    "    \n",
    "    :param movie_title: The title of the movie\n",
    "    :param top_n: Number of similar movies to return\n",
    "    :return: List of top similar movies\n",
    "    \"\"\"\n",
    "    # Get similarity scores for the given movie title\n",
    "    movie_similarity = similarity_df[movie_title].sort_values(ascending=False)\n",
    "    \n",
    "    # Exclude the movie itself\n",
    "    movie_similarity = movie_similarity.drop(movie_title)\n",
    "    \n",
    "    # Get top similar movies\n",
    "    top_similar_movies = movie_similarity.head(top_n).index.tolist()\n",
    "    \n",
    "    return top_similar_movies\n",
    "\n"
   ]
  },
  {
   "cell_type": "code",
   "execution_count": 9,
   "id": "ed576a0b",
   "metadata": {},
   "outputs": [
    {
     "name": "stdout",
     "output_type": "stream",
     "text": [
      "Top movies similar to 'Movie 1': ['Movie 3', 'Movie 4']\n"
     ]
    }
   ],
   "source": [
    "# Example usage\n",
    "movie_title = 'Movie 1'\n",
    "similar_movies = get_similar_movies(movie_title)\n",
    "print(f\"Top movies similar to '{movie_title}': {similar_movies}\")"
   ]
  }
 ],
 "metadata": {
  "kernelspec": {
   "display_name": "Python 3 (ipykernel)",
   "language": "python",
   "name": "python3"
  },
  "language_info": {
   "codemirror_mode": {
    "name": "ipython",
    "version": 3
   },
   "file_extension": ".py",
   "mimetype": "text/x-python",
   "name": "python",
   "nbconvert_exporter": "python",
   "pygments_lexer": "ipython3",
   "version": "3.9.12"
  }
 },
 "nbformat": 4,
 "nbformat_minor": 5
}
