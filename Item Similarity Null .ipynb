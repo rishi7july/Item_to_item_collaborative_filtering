{
 "cells": [
  {
   "cell_type": "code",
   "execution_count": 20,
   "id": "4b47f84c",
   "metadata": {},
   "outputs": [],
   "source": [
    "import pandas as pd\n",
    "import numpy as np\n",
    "from sklearn.metrics.pairwise import cosine_similarity\n",
    "\n"
   ]
  },
  {
   "cell_type": "code",
   "execution_count": 21,
   "id": "6ee26d14",
   "metadata": {},
   "outputs": [],
   "source": [
    "# Create a DataFrame from the provided data\n",
    "data = {\n",
    "    'User': ['user1', 'user2', 'user3', 'user4'],\n",
    "    'Item1': [2.0, 5.0, 3.0, np.nan],\n",
    "    'Item2': [np.nan, 2.0, 3.0,2.0],\n",
    "    'Item3': [3.0,np.nan,1.0,2.0],\n",
    "\n",
    "    }\n",
    "\n"
   ]
  },
  {
   "cell_type": "code",
   "execution_count": 66,
   "id": "15175f7d",
   "metadata": {},
   "outputs": [
    {
     "name": "stdout",
     "output_type": "stream",
     "text": [
      "Cosine similarity: 0.9037378388935388\n"
     ]
    }
   ],
   "source": [
    "import numpy as np\n",
    "\n",
    "def cosine_similarity(a, b):\n",
    "    # Mask NaN values\n",
    "    mask = ~np.isnan(a) & ~np.isnan(b)\n",
    "    \n",
    "    # Calculate dot product only for non-NaN values\n",
    "    dot_product = np.dot(a[mask], b[mask])\n",
    "    \n",
    "    # Calculate norms only for non-NaN values\n",
    "    norm_a = np.linalg.norm(a[mask])\n",
    "    norm_b = np.linalg.norm(b[mask])\n",
    "    \n",
    "    # Calculate similarity\n",
    "    similarity = dot_product / (norm_a * norm_b)\n",
    "    return similarity\n",
    "\n",
    "# Example arrays\n",
    "array1 = np.array([2.0, 5.0, 3.0, np.nan])\n",
    "array2 = np.array([np.nan, 2.0, 3.0, 2.0])\n",
    "\n",
    "# Calculate cosine similarity\n",
    "similarity = cosine_similarity(array1, array2)\n",
    "print(\"Cosine similarity:\", similarity)\n"
   ]
  }
 ],
 "metadata": {
  "kernelspec": {
   "display_name": "Python 3 (ipykernel)",
   "language": "python",
   "name": "python3"
  },
  "language_info": {
   "codemirror_mode": {
    "name": "ipython",
    "version": 3
   },
   "file_extension": ".py",
   "mimetype": "text/x-python",
   "name": "python",
   "nbconvert_exporter": "python",
   "pygments_lexer": "ipython3",
   "version": "3.9.12"
  }
 },
 "nbformat": 4,
 "nbformat_minor": 5
}
